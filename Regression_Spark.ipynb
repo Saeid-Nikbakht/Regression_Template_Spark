{
 "cells": [
  {
   "cell_type": "markdown",
   "id": "e76574cc",
   "metadata": {},
   "source": [
    "# <font color='green'>Importing required Modules"
   ]
  },
  {
   "cell_type": "code",
   "execution_count": 1,
   "id": "4f62b203",
   "metadata": {
    "scrolled": true
   },
   "outputs": [],
   "source": [
    "import numpy as np\n",
    "import pandas as pd\n",
    "import matplotlib.pyplot as plt\n",
    "import seaborn as sns"
   ]
  },
  {
   "cell_type": "markdown",
   "id": "91d4e3a0",
   "metadata": {},
   "source": [
    "# <font color='green'>Importing Pyspark"
   ]
  },
  {
   "cell_type": "code",
   "execution_count": 2,
   "id": "98e6357b",
   "metadata": {},
   "outputs": [
    {
     "data": {
      "text/html": [
       "\n",
       "            <div>\n",
       "                <p><b>SparkSession - in-memory</b></p>\n",
       "                \n",
       "        <div>\n",
       "            <p><b>SparkContext</b></p>\n",
       "\n",
       "            <p><a href=\"http://192.168.0.122:4040\">Spark UI</a></p>\n",
       "\n",
       "            <dl>\n",
       "              <dt>Version</dt>\n",
       "                <dd><code>v3.1.1</code></dd>\n",
       "              <dt>Master</dt>\n",
       "                <dd><code>local[*]</code></dd>\n",
       "              <dt>AppName</dt>\n",
       "                <dd><code>Regression</code></dd>\n",
       "            </dl>\n",
       "        </div>\n",
       "        \n",
       "            </div>\n",
       "        "
      ],
      "text/plain": [
       "<pyspark.sql.session.SparkSession at 0x1b7b876b8e0>"
      ]
     },
     "execution_count": 2,
     "metadata": {},
     "output_type": "execute_result"
    }
   ],
   "source": [
    "import pyspark\n",
    "\n",
    "from pyspark.sql import SparkSession\n",
    "spark = SparkSession.builder.appName(\"Regression\").getOrCreate()\n",
    "\n",
    "spark"
   ]
  },
  {
   "cell_type": "markdown",
   "id": "4858f190",
   "metadata": {},
   "source": [
    "# <font color='green'>Reading the dataset"
   ]
  },
  {
   "cell_type": "code",
   "execution_count": 3,
   "id": "744807b2",
   "metadata": {},
   "outputs": [],
   "source": [
    "path = \"Datasets/\"\n",
    "data = spark.read.csv(path + \"housing.csv\", header = True, inferSchema = True)"
   ]
  },
  {
   "cell_type": "code",
   "execution_count": 4,
   "id": "d79c2bbf",
   "metadata": {},
   "outputs": [
    {
     "data": {
      "text/html": [
       "<div>\n",
       "<style scoped>\n",
       "    .dataframe tbody tr th:only-of-type {\n",
       "        vertical-align: middle;\n",
       "    }\n",
       "\n",
       "    .dataframe tbody tr th {\n",
       "        vertical-align: top;\n",
       "    }\n",
       "\n",
       "    .dataframe thead th {\n",
       "        text-align: right;\n",
       "    }\n",
       "</style>\n",
       "<table border=\"1\" class=\"dataframe\">\n",
       "  <thead>\n",
       "    <tr style=\"text-align: right;\">\n",
       "      <th></th>\n",
       "      <th>longitude</th>\n",
       "      <th>latitude</th>\n",
       "      <th>housing_median_age</th>\n",
       "      <th>total_rooms</th>\n",
       "      <th>total_bedrooms</th>\n",
       "      <th>population</th>\n",
       "      <th>households</th>\n",
       "      <th>median_income</th>\n",
       "      <th>median_house_value</th>\n",
       "      <th>ocean_proximity</th>\n",
       "    </tr>\n",
       "  </thead>\n",
       "  <tbody>\n",
       "    <tr>\n",
       "      <th>0</th>\n",
       "      <td>-122.23</td>\n",
       "      <td>37.88</td>\n",
       "      <td>41.0</td>\n",
       "      <td>880.0</td>\n",
       "      <td>129.0</td>\n",
       "      <td>322.0</td>\n",
       "      <td>126.0</td>\n",
       "      <td>8.3252</td>\n",
       "      <td>452600.0</td>\n",
       "      <td>NEAR BAY</td>\n",
       "    </tr>\n",
       "    <tr>\n",
       "      <th>1</th>\n",
       "      <td>-122.22</td>\n",
       "      <td>37.86</td>\n",
       "      <td>21.0</td>\n",
       "      <td>7099.0</td>\n",
       "      <td>1106.0</td>\n",
       "      <td>2401.0</td>\n",
       "      <td>1138.0</td>\n",
       "      <td>8.3014</td>\n",
       "      <td>358500.0</td>\n",
       "      <td>NEAR BAY</td>\n",
       "    </tr>\n",
       "    <tr>\n",
       "      <th>2</th>\n",
       "      <td>-122.24</td>\n",
       "      <td>37.85</td>\n",
       "      <td>52.0</td>\n",
       "      <td>1467.0</td>\n",
       "      <td>190.0</td>\n",
       "      <td>496.0</td>\n",
       "      <td>177.0</td>\n",
       "      <td>7.2574</td>\n",
       "      <td>352100.0</td>\n",
       "      <td>NEAR BAY</td>\n",
       "    </tr>\n",
       "    <tr>\n",
       "      <th>3</th>\n",
       "      <td>-122.25</td>\n",
       "      <td>37.85</td>\n",
       "      <td>52.0</td>\n",
       "      <td>1274.0</td>\n",
       "      <td>235.0</td>\n",
       "      <td>558.0</td>\n",
       "      <td>219.0</td>\n",
       "      <td>5.6431</td>\n",
       "      <td>341300.0</td>\n",
       "      <td>NEAR BAY</td>\n",
       "    </tr>\n",
       "    <tr>\n",
       "      <th>4</th>\n",
       "      <td>-122.25</td>\n",
       "      <td>37.85</td>\n",
       "      <td>52.0</td>\n",
       "      <td>1627.0</td>\n",
       "      <td>280.0</td>\n",
       "      <td>565.0</td>\n",
       "      <td>259.0</td>\n",
       "      <td>3.8462</td>\n",
       "      <td>342200.0</td>\n",
       "      <td>NEAR BAY</td>\n",
       "    </tr>\n",
       "  </tbody>\n",
       "</table>\n",
       "</div>"
      ],
      "text/plain": [
       "   longitude  latitude  housing_median_age  total_rooms  total_bedrooms  \\\n",
       "0    -122.23     37.88                41.0        880.0           129.0   \n",
       "1    -122.22     37.86                21.0       7099.0          1106.0   \n",
       "2    -122.24     37.85                52.0       1467.0           190.0   \n",
       "3    -122.25     37.85                52.0       1274.0           235.0   \n",
       "4    -122.25     37.85                52.0       1627.0           280.0   \n",
       "\n",
       "   population  households  median_income  median_house_value ocean_proximity  \n",
       "0       322.0       126.0         8.3252            452600.0        NEAR BAY  \n",
       "1      2401.0      1138.0         8.3014            358500.0        NEAR BAY  \n",
       "2       496.0       177.0         7.2574            352100.0        NEAR BAY  \n",
       "3       558.0       219.0         5.6431            341300.0        NEAR BAY  \n",
       "4       565.0       259.0         3.8462            342200.0        NEAR BAY  "
      ]
     },
     "execution_count": 4,
     "metadata": {},
     "output_type": "execute_result"
    }
   ],
   "source": [
    "data.limit(5).toPandas()"
   ]
  },
  {
   "cell_type": "code",
   "execution_count": 5,
   "id": "36f6e635",
   "metadata": {},
   "outputs": [
    {
     "name": "stdout",
     "output_type": "stream",
     "text": [
      "root\n",
      " |-- longitude: double (nullable = true)\n",
      " |-- latitude: double (nullable = true)\n",
      " |-- housing_median_age: double (nullable = true)\n",
      " |-- total_rooms: double (nullable = true)\n",
      " |-- total_bedrooms: double (nullable = true)\n",
      " |-- population: double (nullable = true)\n",
      " |-- households: double (nullable = true)\n",
      " |-- median_income: double (nullable = true)\n",
      " |-- median_house_value: double (nullable = true)\n",
      " |-- ocean_proximity: string (nullable = true)\n",
      "\n"
     ]
    }
   ],
   "source": [
    "data.printSchema()"
   ]
  },
  {
   "cell_type": "code",
   "execution_count": 6,
   "id": "8bb40c68",
   "metadata": {},
   "outputs": [
    {
     "data": {
      "text/plain": [
       "20640"
      ]
     },
     "execution_count": 6,
     "metadata": {},
     "output_type": "execute_result"
    }
   ],
   "source": [
    "data.count()"
   ]
  },
  {
   "cell_type": "code",
   "execution_count": 7,
   "id": "659053c3",
   "metadata": {},
   "outputs": [],
   "source": [
    "data = data.na.drop()"
   ]
  },
  {
   "cell_type": "code",
   "execution_count": 8,
   "id": "1c9d2f1f",
   "metadata": {},
   "outputs": [
    {
     "data": {
      "text/plain": [
       "20433"
      ]
     },
     "execution_count": 8,
     "metadata": {},
     "output_type": "execute_result"
    }
   ],
   "source": [
    "data.count()"
   ]
  },
  {
   "cell_type": "code",
   "execution_count": 9,
   "id": "43c64464",
   "metadata": {},
   "outputs": [],
   "source": [
    "from pyspark.ml.feature import VectorAssembler, StringIndexer\n",
    "from pyspark.ml.tuning import CrossValidator, ParamGridBuilder\n",
    "from pyspark.ml.stat import Correlation\n",
    "from pyspark.ml.regression import *\n",
    "from pyspark.ml.evaluation import *\n",
    "from pyspark.sql.types import *\n",
    "from pyspark.sql.functions import *"
   ]
  },
  {
   "cell_type": "markdown",
   "id": "736f9d87",
   "metadata": {},
   "source": [
    "# <font color='green'>Vectorizing the features"
   ]
  },
  {
   "cell_type": "code",
   "execution_count": 10,
   "id": "996c6e70",
   "metadata": {},
   "outputs": [],
   "source": [
    "features_list = ['longitude','latitude','housing_median_age','total_rooms','total_bedrooms','population','households','median_income','median_house_value']\n",
    "features_list.remove('median_house_value')\n",
    "assembler = VectorAssembler(inputCols = features_list, outputCol = 'features')\n",
    "data = assembler.transform(data).select('features', 'median_house_value')\n",
    "data = data.withColumnRenamed('median_house_value','label')"
   ]
  },
  {
   "cell_type": "code",
   "execution_count": 11,
   "id": "53cf44b6",
   "metadata": {},
   "outputs": [
    {
     "data": {
      "text/html": [
       "<div>\n",
       "<style scoped>\n",
       "    .dataframe tbody tr th:only-of-type {\n",
       "        vertical-align: middle;\n",
       "    }\n",
       "\n",
       "    .dataframe tbody tr th {\n",
       "        vertical-align: top;\n",
       "    }\n",
       "\n",
       "    .dataframe thead th {\n",
       "        text-align: right;\n",
       "    }\n",
       "</style>\n",
       "<table border=\"1\" class=\"dataframe\">\n",
       "  <thead>\n",
       "    <tr style=\"text-align: right;\">\n",
       "      <th></th>\n",
       "      <th>features</th>\n",
       "      <th>label</th>\n",
       "    </tr>\n",
       "  </thead>\n",
       "  <tbody>\n",
       "    <tr>\n",
       "      <th>0</th>\n",
       "      <td>[-122.23, 37.88, 41.0, 880.0, 129.0, 322.0, 12...</td>\n",
       "      <td>452600.0</td>\n",
       "    </tr>\n",
       "    <tr>\n",
       "      <th>1</th>\n",
       "      <td>[-122.22, 37.86, 21.0, 7099.0, 1106.0, 2401.0,...</td>\n",
       "      <td>358500.0</td>\n",
       "    </tr>\n",
       "    <tr>\n",
       "      <th>2</th>\n",
       "      <td>[-122.24, 37.85, 52.0, 1467.0, 190.0, 496.0, 1...</td>\n",
       "      <td>352100.0</td>\n",
       "    </tr>\n",
       "    <tr>\n",
       "      <th>3</th>\n",
       "      <td>[-122.25, 37.85, 52.0, 1274.0, 235.0, 558.0, 2...</td>\n",
       "      <td>341300.0</td>\n",
       "    </tr>\n",
       "    <tr>\n",
       "      <th>4</th>\n",
       "      <td>[-122.25, 37.85, 52.0, 1627.0, 280.0, 565.0, 2...</td>\n",
       "      <td>342200.0</td>\n",
       "    </tr>\n",
       "  </tbody>\n",
       "</table>\n",
       "</div>"
      ],
      "text/plain": [
       "                                            features     label\n",
       "0  [-122.23, 37.88, 41.0, 880.0, 129.0, 322.0, 12...  452600.0\n",
       "1  [-122.22, 37.86, 21.0, 7099.0, 1106.0, 2401.0,...  358500.0\n",
       "2  [-122.24, 37.85, 52.0, 1467.0, 190.0, 496.0, 1...  352100.0\n",
       "3  [-122.25, 37.85, 52.0, 1274.0, 235.0, 558.0, 2...  341300.0\n",
       "4  [-122.25, 37.85, 52.0, 1627.0, 280.0, 565.0, 2...  342200.0"
      ]
     },
     "execution_count": 11,
     "metadata": {},
     "output_type": "execute_result"
    }
   ],
   "source": [
    "data.limit(5).toPandas()"
   ]
  },
  {
   "cell_type": "markdown",
   "id": "e9be8126",
   "metadata": {},
   "source": [
    "# <font color='green'>Check the Colinearity"
   ]
  },
  {
   "cell_type": "code",
   "execution_count": 12,
   "id": "8fbdce95",
   "metadata": {},
   "outputs": [
    {
     "data": {
      "text/plain": [
       "['features', 'label']"
      ]
     },
     "execution_count": 12,
     "metadata": {},
     "output_type": "execute_result"
    }
   ],
   "source": [
    "data.columns"
   ]
  },
  {
   "cell_type": "code",
   "execution_count": 13,
   "id": "f9ee524a",
   "metadata": {
    "scrolled": false
   },
   "outputs": [
    {
     "data": {
      "text/plain": [
       "([<matplotlib.axis.YTick at 0x1b7b9b04790>,\n",
       "  <matplotlib.axis.YTick at 0x1b7b9b04130>,\n",
       "  <matplotlib.axis.YTick at 0x1b7b9ad3700>,\n",
       "  <matplotlib.axis.YTick at 0x1b7b9b9aa30>,\n",
       "  <matplotlib.axis.YTick at 0x1b7b9ba12b0>,\n",
       "  <matplotlib.axis.YTick at 0x1b7b9ba1a30>,\n",
       "  <matplotlib.axis.YTick at 0x1b7b9ba61c0>,\n",
       "  <matplotlib.axis.YTick at 0x1b7b9ba6910>],\n",
       " [Text(0, 0.5, 'longitude'),\n",
       "  Text(0, 1.5, 'latitude'),\n",
       "  Text(0, 2.5, 'housing_median_age'),\n",
       "  Text(0, 3.5, 'total_rooms'),\n",
       "  Text(0, 4.5, 'total_bedrooms'),\n",
       "  Text(0, 5.5, 'population'),\n",
       "  Text(0, 6.5, 'households'),\n",
       "  Text(0, 7.5, 'median_income')])"
      ]
     },
     "execution_count": 13,
     "metadata": {},
     "output_type": "execute_result"
    },
    {
     "data": {
      "image/png": "[encoded data removed]",
      "text/plain": [
       "<Figure size 1296x432 with 2 Axes>"
      ]
     },
     "metadata": {
      "needs_background": "light"
     },
     "output_type": "display_data"
    }
   ],
   "source": [
    "pearson_corr = Correlation.corr(data, 'features', 'pearson').collect()[0][0] # make sure to delete all the NA from the dataset\n",
    "Corr_matrix = pd.DataFrame(pearson_corr.toArray())\n",
    "plt.figure(figsize = [18,6])\n",
    "sns.heatmap(Corr_matrix, annot = True)\n",
    "plt.xticks(ticks = np.arange(0.5,8,1), labels = features_list)\n",
    "plt.yticks(ticks = np.arange(0.5,8,1), labels = features_list, rotation = 45)"
   ]
  },
  {
   "cell_type": "markdown",
   "id": "370d250e",
   "metadata": {},
   "source": [
    "### There is a high correlation between the columns : \"total_rooms\", \"total_bedrooms\", \"population\" and \"households\"\n",
    "### There is also a high negative correlation between the columns \"longitude\" and \"latitude\"\n",
    "### In case of using linear regression we should only consider one of these sets of correlated sets of features"
   ]
  },
  {
   "cell_type": "markdown",
   "id": "9d04e981",
   "metadata": {},
   "source": [
    "# <font color='green'>Random Split (train-test)"
   ]
  },
  {
   "cell_type": "code",
   "execution_count": 14,
   "id": "d9eea459",
   "metadata": {},
   "outputs": [],
   "source": [
    "train, test = data.randomSplit([0.7,0.3])"
   ]
  },
  {
   "cell_type": "markdown",
   "id": "418fbbee",
   "metadata": {},
   "source": [
    "# <font color='green'>Linear Regression"
   ]
  },
  {
   "cell_type": "code",
   "execution_count": 15,
   "id": "ea61498e",
   "metadata": {},
   "outputs": [],
   "source": [
    "regressor_lr = LinearRegression()\n",
    "fitModel = regressor_lr.fit(train)\n",
    "predictions = fitModel.transform(test)"
   ]
  },
  {
   "cell_type": "markdown",
   "id": "3c9ab481",
   "metadata": {},
   "source": [
    "# <font color='green'>Evaluating the predictions"
   ]
  },
  {
   "cell_type": "code",
   "execution_count": 16,
   "id": "a86f44de",
   "metadata": {},
   "outputs": [
    {
     "name": "stdout",
     "output_type": "stream",
     "text": [
      "The RMSE of this model was 69051.69761023736\n"
     ]
    }
   ],
   "source": [
    "evaluator = RegressionEvaluator(metricName = 'rmse')\n",
    "rmse = evaluator.evaluate(predictions)\n",
    "print(\"The RMSE of this model was {}\".format(rmse))"
   ]
  },
  {
   "cell_type": "markdown",
   "id": "c7f45411",
   "metadata": {},
   "source": [
    "# <font color='green'>Model Parameters"
   ]
  },
  {
   "cell_type": "code",
   "execution_count": 17,
   "id": "e5afc337",
   "metadata": {},
   "outputs": [
    {
     "name": "stdout",
     "output_type": "stream",
     "text": [
      "The intercept of Linear Regression was -3654625.816275573\n"
     ]
    },
    {
     "data": {
      "text/html": [
       "<div>\n",
       "<style scoped>\n",
       "    .dataframe tbody tr th:only-of-type {\n",
       "        vertical-align: middle;\n",
       "    }\n",
       "\n",
       "    .dataframe tbody tr th {\n",
       "        vertical-align: top;\n",
       "    }\n",
       "\n",
       "    .dataframe thead th {\n",
       "        text-align: right;\n",
       "    }\n",
       "</style>\n",
       "<table border=\"1\" class=\"dataframe\">\n",
       "  <thead>\n",
       "    <tr style=\"text-align: right;\">\n",
       "      <th></th>\n",
       "      <th>feature</th>\n",
       "      <th>coef</th>\n",
       "    </tr>\n",
       "  </thead>\n",
       "  <tbody>\n",
       "    <tr>\n",
       "      <th>0</th>\n",
       "      <td>longitude</td>\n",
       "      <td>-43449.582187</td>\n",
       "    </tr>\n",
       "    <tr>\n",
       "      <th>1</th>\n",
       "      <td>latitude</td>\n",
       "      <td>-42998.776478</td>\n",
       "    </tr>\n",
       "    <tr>\n",
       "      <th>5</th>\n",
       "      <td>population</td>\n",
       "      <td>-36.147759</td>\n",
       "    </tr>\n",
       "    <tr>\n",
       "      <th>3</th>\n",
       "      <td>total_rooms</td>\n",
       "      <td>-8.303711</td>\n",
       "    </tr>\n",
       "    <tr>\n",
       "      <th>6</th>\n",
       "      <td>households</td>\n",
       "      <td>47.010256</td>\n",
       "    </tr>\n",
       "    <tr>\n",
       "      <th>4</th>\n",
       "      <td>total_bedrooms</td>\n",
       "      <td>109.967079</td>\n",
       "    </tr>\n",
       "    <tr>\n",
       "      <th>2</th>\n",
       "      <td>housing_median_age</td>\n",
       "      <td>1151.379850</td>\n",
       "    </tr>\n",
       "    <tr>\n",
       "      <th>7</th>\n",
       "      <td>median_income</td>\n",
       "      <td>40273.379521</td>\n",
       "    </tr>\n",
       "  </tbody>\n",
       "</table>\n",
       "</div>"
      ],
      "text/plain": [
       "              feature          coef\n",
       "0           longitude -43449.582187\n",
       "1            latitude -42998.776478\n",
       "5          population    -36.147759\n",
       "3         total_rooms     -8.303711\n",
       "6          households     47.010256\n",
       "4      total_bedrooms    109.967079\n",
       "2  housing_median_age   1151.379850\n",
       "7       median_income  40273.379521"
      ]
     },
     "execution_count": 17,
     "metadata": {},
     "output_type": "execute_result"
    }
   ],
   "source": [
    "training_summary = fitModel.summary\n",
    "print(\"The intercept of Linear Regression was {}\".format(fitModel.intercept))\n",
    "Coef_Matrix = fitModel.coefficients.toArray().tolist()\n",
    "coef_df = pd.DataFrame(zip(features_list, Coef_Matrix),columns = ['feature','coef'])\n",
    "coef_df.sort_values('coef').head(10)"
   ]
  },
  {
   "cell_type": "markdown",
   "id": "8c764bf4",
   "metadata": {},
   "source": [
    "## As is shown, longitude and latitude are the most negative correlated features to the label\n",
    "## Housing_median_age and median_income are on the other hand positively related to the label"
   ]
  },
  {
   "cell_type": "markdown",
   "id": "50dab26b",
   "metadata": {},
   "source": [
    "# <font color='green'>Model Results"
   ]
  },
  {
   "cell_type": "code",
   "execution_count": 18,
   "id": "8a36bf38",
   "metadata": {},
   "outputs": [
    {
     "name": "stdout",
     "output_type": "stream",
     "text": [
      "The RMSE of training data : 69789.87766766202\n",
      "The RMSE of test data : 69051.69761023736\n",
      "The R2 of training data : 0.6359880168692222\n",
      "The R2 of test data : 0.638626863197814\n"
     ]
    }
   ],
   "source": [
    "summary = fitModel.summary\n",
    "test_results = fitModel.evaluate(test)\n",
    "print(\"The RMSE of training data : {}\".format(summary.rootMeanSquaredError))\n",
    "print(\"The RMSE of test data : {}\".format(test_results.rootMeanSquaredError))\n",
    "print(\"The R2 of training data : {}\".format(summary.r2))\n",
    "print(\"The R2 of test data : {}\".format(test_results.r2))"
   ]
  },
  {
   "cell_type": "markdown",
   "id": "867c3669",
   "metadata": {},
   "source": [
    "# <font color='green'>Linear Regression + Cross-Validation"
   ]
  },
  {
   "cell_type": "code",
   "execution_count": 19,
   "id": "6c27517b",
   "metadata": {},
   "outputs": [],
   "source": [
    "regressor_lr_cv = LinearRegression()\n",
    "param_grid = (ParamGridBuilder().addGrid(regressor_lr_cv.maxIter, [10,15]).addGrid(regressor_lr_cv.regParam, [0.1,0.01])).build()\n",
    "evaluator = RegressionEvaluator(metricName = 'rmse')\n",
    "cross_val = CrossValidator(estimator = regressor_lr_cv,\n",
    "                          estimatorParamMaps = param_grid,\n",
    "                          evaluator = evaluator,\n",
    "                          numFolds = 4)\n",
    "fitModel = cross_val.fit(train)\n",
    "LR_best_model = fitModel.bestModel"
   ]
  },
  {
   "cell_type": "markdown",
   "id": "bfa85195",
   "metadata": {},
   "source": [
    "# <font color='green'>Model Parameters"
   ]
  },
  {
   "cell_type": "code",
   "execution_count": 20,
   "id": "99fa2834",
   "metadata": {},
   "outputs": [
    {
     "name": "stdout",
     "output_type": "stream",
     "text": [
      "The intercept of Linear Regression was -3654574.011981113\n"
     ]
    },
    {
     "data": {
      "text/html": [
       "<div>\n",
       "<style scoped>\n",
       "    .dataframe tbody tr th:only-of-type {\n",
       "        vertical-align: middle;\n",
       "    }\n",
       "\n",
       "    .dataframe tbody tr th {\n",
       "        vertical-align: top;\n",
       "    }\n",
       "\n",
       "    .dataframe thead th {\n",
       "        text-align: right;\n",
       "    }\n",
       "</style>\n",
       "<table border=\"1\" class=\"dataframe\">\n",
       "  <thead>\n",
       "    <tr style=\"text-align: right;\">\n",
       "      <th></th>\n",
       "      <th>feature</th>\n",
       "      <th>coef</th>\n",
       "    </tr>\n",
       "  </thead>\n",
       "  <tbody>\n",
       "    <tr>\n",
       "      <th>0</th>\n",
       "      <td>longitude</td>\n",
       "      <td>-43448.980415</td>\n",
       "    </tr>\n",
       "    <tr>\n",
       "      <th>1</th>\n",
       "      <td>latitude</td>\n",
       "      <td>-42998.217566</td>\n",
       "    </tr>\n",
       "    <tr>\n",
       "      <th>5</th>\n",
       "      <td>population</td>\n",
       "      <td>-36.147655</td>\n",
       "    </tr>\n",
       "    <tr>\n",
       "      <th>3</th>\n",
       "      <td>total_rooms</td>\n",
       "      <td>-8.303546</td>\n",
       "    </tr>\n",
       "    <tr>\n",
       "      <th>6</th>\n",
       "      <td>households</td>\n",
       "      <td>47.012669</td>\n",
       "    </tr>\n",
       "    <tr>\n",
       "      <th>4</th>\n",
       "      <td>total_bedrooms</td>\n",
       "      <td>109.963853</td>\n",
       "    </tr>\n",
       "    <tr>\n",
       "      <th>2</th>\n",
       "      <td>housing_median_age</td>\n",
       "      <td>1151.388555</td>\n",
       "    </tr>\n",
       "    <tr>\n",
       "      <th>7</th>\n",
       "      <td>median_income</td>\n",
       "      <td>40273.361221</td>\n",
       "    </tr>\n",
       "  </tbody>\n",
       "</table>\n",
       "</div>"
      ],
      "text/plain": [
       "              feature          coef\n",
       "0           longitude -43448.980415\n",
       "1            latitude -42998.217566\n",
       "5          population    -36.147655\n",
       "3         total_rooms     -8.303546\n",
       "6          households     47.012669\n",
       "4      total_bedrooms    109.963853\n",
       "2  housing_median_age   1151.388555\n",
       "7       median_income  40273.361221"
      ]
     },
     "execution_count": 20,
     "metadata": {},
     "output_type": "execute_result"
    }
   ],
   "source": [
    "training_summary = LR_best_model.summary\n",
    "print(\"The intercept of Linear Regression was {}\".format(LR_best_model.intercept))\n",
    "Coef_Matrix = LR_best_model.coefficients.toArray().tolist()\n",
    "coef_df_lr_cv = pd.DataFrame(zip(features_list, Coef_Matrix),columns = ['feature','coef'])\n",
    "coef_df_lr_cv.sort_values('coef').head(10)"
   ]
  },
  {
   "cell_type": "markdown",
   "id": "0a85ed8c",
   "metadata": {},
   "source": [
    "# <font color='green'>Model Results "
   ]
  },
  {
   "cell_type": "code",
   "execution_count": 21,
   "id": "f8bd8bfc",
   "metadata": {},
   "outputs": [
    {
     "name": "stdout",
     "output_type": "stream",
     "text": [
      "The RMSE of training data : 69789.87766936852\n",
      "The RMSE of test data : 69051.69592188459\n",
      "The R2 of training data : 0.6359880168514207\n",
      "The R2 of test data : 0.638626880869366\n"
     ]
    }
   ],
   "source": [
    "summary = LR_best_model.summary\n",
    "test_results = LR_best_model.evaluate(test)\n",
    "rmse_LR = test_results.rootMeanSquaredError\n",
    "print(\"The RMSE of training data : {}\".format(summary.rootMeanSquaredError))\n",
    "print(\"The RMSE of test data : {}\".format(test_results.rootMeanSquaredError))\n",
    "print(\"The R2 of training data : {}\".format(summary.r2))\n",
    "print(\"The R2 of test data : {}\".format(test_results.r2))"
   ]
  },
  {
   "cell_type": "markdown",
   "id": "70725b61",
   "metadata": {},
   "source": [
    "### Conclusion: As is shown, there was a slight influence on the results of linear regression by applying the cross-validation"
   ]
  },
  {
   "cell_type": "markdown",
   "id": "210a9c7c",
   "metadata": {},
   "source": [
    "# <font color = 'green'> Decision Tree + Cross-Validation"
   ]
  },
  {
   "cell_type": "code",
   "execution_count": 22,
   "id": "ceadd19b",
   "metadata": {},
   "outputs": [],
   "source": [
    "regressor_dt = DecisionTreeRegressor()\n",
    "param_grid = (ParamGridBuilder()\\\n",
    "                                 .addGrid(regressor_dt.maxDepth, [2,5,10])\\\n",
    "                                 .addGrid(regressor_dt.maxBins, [10,20,40])\\\n",
    "                                 .build())\n",
    "cross_val = CrossValidator(estimator = regressor_dt,\n",
    "                          estimatorParamMaps = param_grid,\n",
    "                          evaluator = RegressionEvaluator(metricName = 'rmse'),\n",
    "                          numFolds = 2)\n",
    "fitModel = cross_val.fit(train)\n",
    "DT_best_model = fitModel.bestModel"
   ]
  },
  {
   "cell_type": "markdown",
   "id": "683c77f0",
   "metadata": {},
   "source": [
    "# <font color = 'green'> Model Results"
   ]
  },
  {
   "cell_type": "code",
   "execution_count": 24,
   "id": "e21d21d4",
   "metadata": {
    "scrolled": true
   },
   "outputs": [
    {
     "data": {
      "text/html": [
       "<div>\n",
       "<style scoped>\n",
       "    .dataframe tbody tr th:only-of-type {\n",
       "        vertical-align: middle;\n",
       "    }\n",
       "\n",
       "    .dataframe tbody tr th {\n",
       "        vertical-align: top;\n",
       "    }\n",
       "\n",
       "    .dataframe thead th {\n",
       "        text-align: right;\n",
       "    }\n",
       "</style>\n",
       "<table border=\"1\" class=\"dataframe\">\n",
       "  <thead>\n",
       "    <tr style=\"text-align: right;\">\n",
       "      <th></th>\n",
       "      <th>feature</th>\n",
       "      <th>importance_dt</th>\n",
       "    </tr>\n",
       "  </thead>\n",
       "  <tbody>\n",
       "    <tr>\n",
       "      <th>6</th>\n",
       "      <td>households</td>\n",
       "      <td>0.007055</td>\n",
       "    </tr>\n",
       "    <tr>\n",
       "      <th>4</th>\n",
       "      <td>total_bedrooms</td>\n",
       "      <td>0.012054</td>\n",
       "    </tr>\n",
       "    <tr>\n",
       "      <th>3</th>\n",
       "      <td>total_rooms</td>\n",
       "      <td>0.013719</td>\n",
       "    </tr>\n",
       "    <tr>\n",
       "      <th>5</th>\n",
       "      <td>population</td>\n",
       "      <td>0.013806</td>\n",
       "    </tr>\n",
       "    <tr>\n",
       "      <th>2</th>\n",
       "      <td>housing_median_age</td>\n",
       "      <td>0.061849</td>\n",
       "    </tr>\n",
       "    <tr>\n",
       "      <th>1</th>\n",
       "      <td>latitude</td>\n",
       "      <td>0.132852</td>\n",
       "    </tr>\n",
       "    <tr>\n",
       "      <th>0</th>\n",
       "      <td>longitude</td>\n",
       "      <td>0.162248</td>\n",
       "    </tr>\n",
       "    <tr>\n",
       "      <th>7</th>\n",
       "      <td>median_income</td>\n",
       "      <td>0.596418</td>\n",
       "    </tr>\n",
       "  </tbody>\n",
       "</table>\n",
       "</div>"
      ],
      "text/plain": [
       "              feature  importance_dt\n",
       "6          households       0.007055\n",
       "4      total_bedrooms       0.012054\n",
       "3         total_rooms       0.013719\n",
       "5          population       0.013806\n",
       "2  housing_median_age       0.061849\n",
       "1            latitude       0.132852\n",
       "0           longitude       0.162248\n",
       "7       median_income       0.596418"
      ]
     },
     "execution_count": 24,
     "metadata": {},
     "output_type": "execute_result"
    }
   ],
   "source": [
    "feature_importance_DT = DT_best_model.featureImportances.toArray()\n",
    "df_feature_importance_DT = pd.DataFrame(zip(features_list,feature_importance_DT),columns=['feature','importance_dt'])\n",
    "df_feature_importance_DT.sort_values('importance_dt').head(10)"
   ]
  },
  {
   "cell_type": "code",
   "execution_count": 25,
   "id": "76169803",
   "metadata": {},
   "outputs": [
    {
     "name": "stdout",
     "output_type": "stream",
     "text": [
      "The RMSE of test data : 64970.17129157738\n"
     ]
    }
   ],
   "source": [
    "predictions = fitModel.transform(test)\n",
    "rmse_DT = evaluator.evaluate(predictions)\n",
    "print(\"The RMSE of test data : {}\".format(rmse_DT))"
   ]
  },
  {
   "cell_type": "markdown",
   "id": "47e9251a",
   "metadata": {},
   "source": [
    "# <font color = 'green'> Random Forest + Cross-Validation"
   ]
  },
  {
   "cell_type": "code",
   "execution_count": 26,
   "id": "4cce6f46",
   "metadata": {},
   "outputs": [],
   "source": [
    "regressor_rf = RandomForestRegressor()\n",
    "\n",
    "param_grid = (ParamGridBuilder()\\\n",
    "                                 .addGrid(regressor_rf.maxDepth, [2,5,10])\\\n",
    "                                 .addGrid(regressor_rf.maxBins, [5,10,20])\\\n",
    "                                 .addGrid(regressor_rf.numTrees, [5,20]).build())\n",
    "\n",
    "cross_val = CrossValidator(estimator = regressor_rf,\n",
    "                           estimatorParamMaps = param_grid,\n",
    "                           evaluator = evaluator,\n",
    "                           numFolds = 2)\n",
    "\n",
    "fitModel = cross_val.fit(train)\n",
    "RF_best_model = fitModel.bestModel"
   ]
  },
  {
   "cell_type": "markdown",
   "id": "8e277095",
   "metadata": {},
   "source": [
    "# <font color = 'green'> Model Results"
   ]
  },
  {
   "cell_type": "code",
   "execution_count": 27,
   "id": "b238d21e",
   "metadata": {},
   "outputs": [
    {
     "data": {
      "text/html": [
       "<div>\n",
       "<style scoped>\n",
       "    .dataframe tbody tr th:only-of-type {\n",
       "        vertical-align: middle;\n",
       "    }\n",
       "\n",
       "    .dataframe tbody tr th {\n",
       "        vertical-align: top;\n",
       "    }\n",
       "\n",
       "    .dataframe thead th {\n",
       "        text-align: right;\n",
       "    }\n",
       "</style>\n",
       "<table border=\"1\" class=\"dataframe\">\n",
       "  <thead>\n",
       "    <tr style=\"text-align: right;\">\n",
       "      <th></th>\n",
       "      <th>feature</th>\n",
       "      <th>importance_rf</th>\n",
       "    </tr>\n",
       "  </thead>\n",
       "  <tbody>\n",
       "    <tr>\n",
       "      <th>6</th>\n",
       "      <td>households</td>\n",
       "      <td>0.023970</td>\n",
       "    </tr>\n",
       "    <tr>\n",
       "      <th>4</th>\n",
       "      <td>total_bedrooms</td>\n",
       "      <td>0.026203</td>\n",
       "    </tr>\n",
       "    <tr>\n",
       "      <th>3</th>\n",
       "      <td>total_rooms</td>\n",
       "      <td>0.038291</td>\n",
       "    </tr>\n",
       "    <tr>\n",
       "      <th>5</th>\n",
       "      <td>population</td>\n",
       "      <td>0.039310</td>\n",
       "    </tr>\n",
       "    <tr>\n",
       "      <th>2</th>\n",
       "      <td>housing_median_age</td>\n",
       "      <td>0.068178</td>\n",
       "    </tr>\n",
       "    <tr>\n",
       "      <th>0</th>\n",
       "      <td>longitude</td>\n",
       "      <td>0.118801</td>\n",
       "    </tr>\n",
       "    <tr>\n",
       "      <th>1</th>\n",
       "      <td>latitude</td>\n",
       "      <td>0.125625</td>\n",
       "    </tr>\n",
       "    <tr>\n",
       "      <th>7</th>\n",
       "      <td>median_income</td>\n",
       "      <td>0.559622</td>\n",
       "    </tr>\n",
       "  </tbody>\n",
       "</table>\n",
       "</div>"
      ],
      "text/plain": [
       "              feature  importance_rf\n",
       "6          households       0.023970\n",
       "4      total_bedrooms       0.026203\n",
       "3         total_rooms       0.038291\n",
       "5          population       0.039310\n",
       "2  housing_median_age       0.068178\n",
       "0           longitude       0.118801\n",
       "1            latitude       0.125625\n",
       "7       median_income       0.559622"
      ]
     },
     "execution_count": 27,
     "metadata": {},
     "output_type": "execute_result"
    }
   ],
   "source": [
    "feature_importance_RF = RF_best_model.featureImportances.toArray()\n",
    "df_feature_importance_RF = pd.DataFrame(zip(features_list,feature_importance_RF),columns=['feature','importance_rf'])\n",
    "df_feature_importance_RF.sort_values('importance_rf').head(10)"
   ]
  },
  {
   "cell_type": "code",
   "execution_count": 28,
   "id": "d5184d99",
   "metadata": {},
   "outputs": [
    {
     "name": "stdout",
     "output_type": "stream",
     "text": [
      "The RMSE of test data : 60655.260230708765\n"
     ]
    }
   ],
   "source": [
    "predictions = fitModel.transform(test)\n",
    "rmse_RF = evaluator.evaluate(predictions)\n",
    "print(\"The RMSE of test data : {}\".format(rmse_RF))"
   ]
  },
  {
   "cell_type": "markdown",
   "id": "4c29213c",
   "metadata": {},
   "source": [
    "# <font color = 'green'> Gradient Boost Tree + Cross-Validation"
   ]
  },
  {
   "cell_type": "code",
   "execution_count": 29,
   "id": "0b515710",
   "metadata": {},
   "outputs": [],
   "source": [
    "regressor_GBT = GBTRegressor()\n",
    "param_grid = (ParamGridBuilder()\\\n",
    "                                 .addGrid(regressor_GBT.maxDepth,[2,5,10])\\\n",
    "                                 .addGrid(regressor_GBT.maxBins,[5,10,20])\\\n",
    "                                 .build())\n",
    "\n",
    "cross_val = CrossValidator(estimator = regressor_GBT,\n",
    "                           estimatorParamMaps = param_grid,\n",
    "                           evaluator = evaluator,\n",
    "                           numFolds = 2)\n",
    "\n",
    "fitModel = cross_val.fit(train)\n",
    "GBT_best_model = fitModel.bestModel"
   ]
  },
  {
   "cell_type": "markdown",
   "id": "1f73b26c",
   "metadata": {},
   "source": [
    "# <font color = 'green'> Model Results"
   ]
  },
  {
   "cell_type": "code",
   "execution_count": 30,
   "id": "39aa5b1f",
   "metadata": {},
   "outputs": [
    {
     "data": {
      "text/html": [
       "<div>\n",
       "<style scoped>\n",
       "    .dataframe tbody tr th:only-of-type {\n",
       "        vertical-align: middle;\n",
       "    }\n",
       "\n",
       "    .dataframe tbody tr th {\n",
       "        vertical-align: top;\n",
       "    }\n",
       "\n",
       "    .dataframe thead th {\n",
       "        text-align: right;\n",
       "    }\n",
       "</style>\n",
       "<table border=\"1\" class=\"dataframe\">\n",
       "  <thead>\n",
       "    <tr style=\"text-align: right;\">\n",
       "      <th></th>\n",
       "      <th>feature</th>\n",
       "      <th>importance_gbt</th>\n",
       "    </tr>\n",
       "  </thead>\n",
       "  <tbody>\n",
       "    <tr>\n",
       "      <th>3</th>\n",
       "      <td>total_rooms</td>\n",
       "      <td>0.012304</td>\n",
       "    </tr>\n",
       "    <tr>\n",
       "      <th>6</th>\n",
       "      <td>households</td>\n",
       "      <td>0.025102</td>\n",
       "    </tr>\n",
       "    <tr>\n",
       "      <th>2</th>\n",
       "      <td>housing_median_age</td>\n",
       "      <td>0.072983</td>\n",
       "    </tr>\n",
       "    <tr>\n",
       "      <th>4</th>\n",
       "      <td>total_bedrooms</td>\n",
       "      <td>0.080107</td>\n",
       "    </tr>\n",
       "    <tr>\n",
       "      <th>5</th>\n",
       "      <td>population</td>\n",
       "      <td>0.091384</td>\n",
       "    </tr>\n",
       "    <tr>\n",
       "      <th>1</th>\n",
       "      <td>latitude</td>\n",
       "      <td>0.184912</td>\n",
       "    </tr>\n",
       "    <tr>\n",
       "      <th>0</th>\n",
       "      <td>longitude</td>\n",
       "      <td>0.193600</td>\n",
       "    </tr>\n",
       "    <tr>\n",
       "      <th>7</th>\n",
       "      <td>median_income</td>\n",
       "      <td>0.339608</td>\n",
       "    </tr>\n",
       "  </tbody>\n",
       "</table>\n",
       "</div>"
      ],
      "text/plain": [
       "              feature  importance_gbt\n",
       "3         total_rooms        0.012304\n",
       "6          households        0.025102\n",
       "2  housing_median_age        0.072983\n",
       "4      total_bedrooms        0.080107\n",
       "5          population        0.091384\n",
       "1            latitude        0.184912\n",
       "0           longitude        0.193600\n",
       "7       median_income        0.339608"
      ]
     },
     "execution_count": 30,
     "metadata": {},
     "output_type": "execute_result"
    }
   ],
   "source": [
    "feature_importance_GBT = GBT_best_model.featureImportances.toArray()\n",
    "df_feature_importance_GBT = pd.DataFrame(zip(features_list,feature_importance_GBT),columns=['feature','importance_gbt'])\n",
    "df_feature_importance_GBT.sort_values('importance_gbt').head(10)"
   ]
  },
  {
   "cell_type": "code",
   "execution_count": 31,
   "id": "7b3cba70",
   "metadata": {},
   "outputs": [
    {
     "name": "stdout",
     "output_type": "stream",
     "text": [
      "The RMSE of test data : 58694.20225923566\n"
     ]
    }
   ],
   "source": [
    "predictions = fitModel.transform(test)\n",
    "rmse_GBT = evaluator.evaluate(predictions)\n",
    "print(\"The RMSE of test data : {}\".format(rmse_GBT))"
   ]
  },
  {
   "cell_type": "markdown",
   "id": "0215a92a",
   "metadata": {},
   "source": [
    "# <font color = 'green'> Comparing the Regressors"
   ]
  },
  {
   "cell_type": "code",
   "execution_count": 39,
   "id": "34481a30",
   "metadata": {},
   "outputs": [
    {
     "data": {
      "image/png": "[encoded data removed]",
      "text/plain": [
       "<Figure size 864x360 with 1 Axes>"
      ]
     },
     "metadata": {
      "needs_background": "light"
     },
     "output_type": "display_data"
    }
   ],
   "source": [
    "rmse_list = [rmse_LR,rmse_DT,rmse_RF,rmse_GBT]\n",
    "regressors_names = [\"rmse_LR\",\"rmse_DT\",\"rmse_RF\",\"rmse_GBT\"]\n",
    "plt.figure(figsize = [12,5])\n",
    "plt.barh(np.arange(1,5),rmse_list)\n",
    "plt.yticks(np.arange(1,5),regressors_names)\n",
    "plt.title(\"RMSE error for different regressors\")\n",
    "for i in range(len(rmse_list)):\n",
    "    plt.annotate(int(rmse_list[i]),(rmse_list[i],i+1))"
   ]
  },
  {
   "cell_type": "markdown",
   "id": "ab7498c5",
   "metadata": {},
   "source": [
    "# <font color = 'green'> Comparing Feature Importance of tree based Regressors"
   ]
  },
  {
   "cell_type": "code",
   "execution_count": 59,
   "id": "c7b95f9c",
   "metadata": {
    "scrolled": true
   },
   "outputs": [],
   "source": [
    "df_importances = pd.concat([df_feature_importance_DT,df_feature_importance_RF.importance_rf, \n",
    "                            df_feature_importance_GBT.importance_gbt], axis = 1)"
   ]
  },
  {
   "cell_type": "code",
   "execution_count": 75,
   "id": "055f9912",
   "metadata": {
    "scrolled": false
   },
   "outputs": [
    {
     "data": {
      "text/plain": [
       "[Text(0, 0, 'longitude'),\n",
       " Text(0, 1, 'latitude'),\n",
       " Text(0, 2, 'housing_median_age'),\n",
       " Text(0, 3, 'total_rooms'),\n",
       " Text(0, 4, 'total_bedrooms'),\n",
       " Text(0, 5, 'population'),\n",
       " Text(0, 6, 'households'),\n",
       " Text(0, 7, 'median_income')]"
      ]
     },
     "execution_count": 75,
     "metadata": {},
     "output_type": "execute_result"
    },
    {
     "data": {
      "image/png": "[encoded data removed]",
      "text/plain": [
       "<Figure size 432x288 with 1 Axes>"
      ]
     },
     "metadata": {
      "needs_background": "light"
     },
     "output_type": "display_data"
    }
   ],
   "source": [
    "ax = df_importances.plot(kind = 'barh')\n",
    "ax.set_yticks(np.arange(8))\n",
    "ax.set_yticklabels(features_list)"
   ]
  },
  {
   "cell_type": "markdown",
   "id": "d7a81825",
   "metadata": {},
   "source": [
    "## As is shown above, the most influential features on the price of the houses is median_income\n",
    "\n",
    "## latitude and longitude are the next most important features according to all tree based algorithms"
   ]
  }
 ],
 "metadata": {
  "kernelspec": {
   "display_name": "Python 3",
   "language": "python",
   "name": "python3"
  },
  "language_info": {
   "codemirror_mode": {
    "name": "ipython",
    "version": 3
   },
   "file_extension": ".py",
   "mimetype": "text/x-python",
   "name": "python",
   "nbconvert_exporter": "python",
   "pygments_lexer": "ipython3",
   "version": "3.8.0"
  }
 },
 "nbformat": 4,
 "nbformat_minor": 5
}
